{
  "nbformat": 4,
  "nbformat_minor": 0,
  "metadata": {
    "colab": {
      "provenance": [],
      "toc_visible": true
    },
    "kernelspec": {
      "name": "python3",
      "display_name": "Python 3"
    },
    "language_info": {
      "name": "python"
    }
  },
  "cells": [
    {
      "cell_type": "code",
      "execution_count": 1,
      "metadata": {
        "id": "M_W7XyfNky28"
      },
      "outputs": [],
      "source": [
        "## to study the various data structure require for data science tool\n",
        "##10 data types\n",
        "## 1)number: number are the data types whicg is used performance many operation on the mainly number it contain integer , float, complex number"
      ]
    },
    {
      "cell_type": "code",
      "source": [
        "#example\n",
        "a=int(input(\"enter the first no.:\"))\n",
        "b=int(input(\"enter the second no.:\"))\n",
        "c=int(input(\"enter the third no.:\"))\n",
        "d=a+b+c\n",
        "print(d)"
      ],
      "metadata": {
        "colab": {
          "base_uri": "https://localhost:8080/"
        },
        "id": "vXJWT5u_lQFA",
        "outputId": "23bd2b02-1436-4c7a-9de8-fb852357a148"
      },
      "execution_count": 3,
      "outputs": [
        {
          "output_type": "stream",
          "name": "stdout",
          "text": [
            "enter the first no.:1\n",
            "enter the second no.:2\n",
            "enter the third no.:3\n",
            "6\n"
          ]
        }
      ]
    },
    {
      "cell_type": "code",
      "source": [
        "## 2)list\n",
        "my_list = ['p','r','o','g','r','a','m']\n",
        "\n",
        "print(my_list[2:5])\n",
        "\n",
        "print(my_list[5:])\n",
        "\n",
        "print(my_list[:])\n"
      ],
      "metadata": {
        "colab": {
          "base_uri": "https://localhost:8080/"
        },
        "id": "XXc_wv_8lvCg",
        "outputId": "a186b280-59b3-4fa3-e00c-a2c5d327636a"
      },
      "execution_count": 2,
      "outputs": [
        {
          "output_type": "stream",
          "name": "stdout",
          "text": [
            "['o', 'g', 'r']\n",
            "['a', 'm', 'i', 'z']\n",
            "['p', 'r', 'o', 'g', 'r', 'a', 'm', 'i', 'z']\n"
          ]
        }
      ]
    },
    {
      "cell_type": "code",
      "source": [
        "## 3) string\n",
        "str1 = \"Hello, world!\"\n",
        "str2 = \"I love Python.\"\n",
        "str3 = \"Hello, world!\"\n",
        "\n",
        "\n",
        "print(str1 == str2)\n",
        "\n",
        "print(str1 == str3)"
      ],
      "metadata": {
        "colab": {
          "base_uri": "https://localhost:8080/"
        },
        "id": "vY2ci3HHlRT3",
        "outputId": "357cab53-a8b4-4efb-df88-2f8674e9144d"
      },
      "execution_count": 4,
      "outputs": [
        {
          "output_type": "stream",
          "name": "stdout",
          "text": [
            "False\n",
            "True\n"
          ]
        }
      ]
    },
    {
      "cell_type": "code",
      "source": [
        "## 4)\n",
        "dict = {\"name\":\"danish\",\n",
        "\"branch\":\"cse(ds)\",\"roll no\":46\n",
        "\n",
        "}\n",
        "print(dict)"
      ],
      "metadata": {
        "colab": {
          "base_uri": "https://localhost:8080/"
        },
        "id": "VFPb4h21nA2O",
        "outputId": "029b1e2b-18a2-4f64-8c06-d1739491ef76"
      },
      "execution_count": 8,
      "outputs": [
        {
          "output_type": "stream",
          "name": "stdout",
          "text": [
            "{'name': 'danish', 'branch': 'cse(ds)', 'roll no': 46}\n"
          ]
        }
      ]
    },
    {
      "cell_type": "code",
      "source": [
        "# 5) tuples\n",
        "\n",
        "\n",
        "my_tuple = ()\n",
        "print(my_tuple)\n",
        "\n",
        "my_tuple = (1, 2, 3)\n",
        "print(my_tuple)\n",
        "\n",
        "my_tuple = (1, \"Hello\", 3.4)\n",
        "print(my_tuple)\n",
        "\n",
        "my_tuple = (\"mouse\", [8, 4, 6], (1, 2, 3))\n",
        "print(my_tuple)"
      ],
      "metadata": {
        "id": "8mliNcMenA6h"
      },
      "execution_count": null,
      "outputs": []
    },
    {
      "cell_type": "code",
      "source": [
        "## 6)set\n",
        "device={\"device\",\"data\",\"science\"}\n",
        "print(device)\n",
        "print(type(device))"
      ],
      "metadata": {
        "colab": {
          "base_uri": "https://localhost:8080/"
        },
        "id": "Sc-t8G0GnA-O",
        "outputId": "e037321a-b544-4239-ce42-b5d7b7d60590"
      },
      "execution_count": 9,
      "outputs": [
        {
          "output_type": "stream",
          "name": "stdout",
          "text": [
            "{'device', 'data', 'science'}\n",
            "<class 'set'>\n"
          ]
        }
      ]
    },
    {
      "cell_type": "code",
      "source": [
        "## 7)comparison  operator\n",
        "x=3\n",
        "y=6\n",
        "z=4\n",
        "print(x==y)\n",
        "print(y==z)\n",
        "print(y<z)\n",
        "print(z>x)\n",
        "print(x!=z)\n",
        "print(x!=y)\n",
        "print(y<=z)\n",
        "print(z>=x)\n",
        "\n"
      ],
      "metadata": {
        "colab": {
          "base_uri": "https://localhost:8080/"
        },
        "id": "-TGxSe-3nBBN",
        "outputId": "58b4333e-8818-4ca3-8039-9f998171ae79"
      },
      "execution_count": 12,
      "outputs": [
        {
          "output_type": "stream",
          "name": "stdout",
          "text": [
            "False\n",
            "False\n",
            "False\n",
            "True\n",
            "True\n",
            "True\n",
            "False\n",
            "True\n"
          ]
        }
      ]
    },
    {
      "cell_type": "code",
      "source": [
        "## 8)\n",
        "number = 10\n",
        "\n",
        "if number > 0:\n",
        "    print('Positive number')\n",
        "\n",
        "else:\n",
        "    print('Negative number')\n",
        "\n",
        "print('This statement is always executed')"
      ],
      "metadata": {
        "colab": {
          "base_uri": "https://localhost:8080/"
        },
        "id": "O1k3fYxDnBEo",
        "outputId": "29ea63b9-ff46-42ec-b70f-cc0fafb563e1"
      },
      "execution_count": 11,
      "outputs": [
        {
          "output_type": "stream",
          "name": "stdout",
          "text": [
            "Positive number\n",
            "This statement is always executed\n"
          ]
        }
      ]
    },
    {
      "cell_type": "code",
      "source": [
        "## 9) for loop\n",
        "list= [\"apple\",\"banana\",\"kiwi\",\"watermelon\"]\n",
        "for x in list :\n",
        " print(x)\n"
      ],
      "metadata": {
        "colab": {
          "base_uri": "https://localhost:8080/"
        },
        "id": "nwHGp6zHrYbm",
        "outputId": "df3b6cae-5cb2-4057-8ef9-f8013c9b4f99"
      },
      "execution_count": 16,
      "outputs": [
        {
          "output_type": "stream",
          "name": "stdout",
          "text": [
            "apple\n",
            "banana\n",
            "kiwi\n",
            "watermelon\n"
          ]
        }
      ]
    },
    {
      "cell_type": "code",
      "source": [
        "## 10) while loop\n",
        "i=0\n",
        "a=int(input(\"how many times you run the loop??\"))\n",
        "while(i==a):\n",
        "  print(\"this is while loop\")\n",
        "  i=i+1"
      ],
      "metadata": {
        "id": "NEVH4ASErYee"
      },
      "execution_count": null,
      "outputs": []
    },
    {
      "cell_type": "code",
      "source": [
        "## 11)range function\n",
        "for i in range(1,21,2):\n",
        "\n",
        "     print(i)"
      ],
      "metadata": {
        "colab": {
          "base_uri": "https://localhost:8080/"
        },
        "id": "pNbMgKCarYm1",
        "outputId": "3adaac6d-51a2-465e-c09a-a117cc73456f"
      },
      "execution_count": 26,
      "outputs": [
        {
          "output_type": "stream",
          "name": "stdout",
          "text": [
            "1\n",
            "3\n",
            "5\n",
            "7\n",
            "9\n",
            "11\n",
            "13\n",
            "15\n",
            "17\n",
            "19\n"
          ]
        }
      ]
    },
    {
      "cell_type": "code",
      "source": [
        "## 12) list comprehension\n",
        "list1 = [\"apple\", \"banana\", \"cherry\", \"kiwi\", \"mango\",\"danish\",\"atharva\",\"jai\"]\n",
        "newlist = [x for x in list1 if \"a\" in x]\n",
        "\n",
        "#for x in list1:\n",
        "  #if \"a\" in x:\n",
        " #  newlist.append(x)\n",
        "\n",
        "print(newlist)"
      ],
      "metadata": {
        "colab": {
          "base_uri": "https://localhost:8080/"
        },
        "id": "4dz9R04trYqB",
        "outputId": "75cb8d3b-62c0-4e5e-c784-9b052d61ddec"
      },
      "execution_count": 36,
      "outputs": [
        {
          "output_type": "stream",
          "name": "stdout",
          "text": [
            "['apple', 'banana', 'mango', 'danish', 'atharva', 'jai']\n"
          ]
        }
      ]
    },
    {
      "cell_type": "code",
      "source": [
        "## 13)function\n",
        "def name(fname):\n",
        "  print(fname + \" Refsnes\")\n",
        "\n",
        "name(\"Emil\")\n",
        "name(\"Tobias\")\n",
        "name(\"Linus\")"
      ],
      "metadata": {
        "colab": {
          "base_uri": "https://localhost:8080/"
        },
        "id": "XhFUtqpwrYs-",
        "outputId": "97c45bd9-7dbc-4b1b-fd5e-69f762112600"
      },
      "execution_count": 38,
      "outputs": [
        {
          "output_type": "stream",
          "name": "stdout",
          "text": [
            "Emil Refsnes\n",
            "Tobias Refsnes\n",
            "Linus Refsnes\n"
          ]
        }
      ]
    },
    {
      "cell_type": "code",
      "source": [
        "## 14) map and filter\n",
        "data = [1, 2, 3, 4, 5]\n",
        "\n",
        "\n",
        "result1 = map(lambda x: x * 2, data)  # Result: [2, 4, 6, 8, 10]\n",
        "\n",
        "result2 = filter(lambda x: x % 2 == 0, data)  # Result: [2, 4]\n",
        "\n",
        "from functools import reduce\n",
        "result3 = reduce(lambda x, y: x * y, data)\n",
        "print(result1)\n",
        "print(result2)\n",
        "print(result3)"
      ],
      "metadata": {
        "colab": {
          "base_uri": "https://localhost:8080/"
        },
        "id": "tsViGAEGv-Fl",
        "outputId": "e23b9d1d-c87a-4a7f-a689-3a3e95a50f26"
      },
      "execution_count": 52,
      "outputs": [
        {
          "output_type": "stream",
          "name": "stdout",
          "text": [
            "<map object at 0x78c6357a5e10>\n",
            "<filter object at 0x78c6357a51e0>\n",
            "120\n"
          ]
        }
      ]
    },
    {
      "cell_type": "code",
      "source": [
        "## 15) methods\n",
        "fruits = ['apple', 'banana', 'cherry']\n",
        "fruits.append(\"orange\")\n",
        "print(fruits)\n",
        "fruits = ['apple', 'banana', 'cherry', 'orange']\n",
        "\n",
        "x = fruits.copy()\n",
        "print(x)\n",
        "y = fruits.count(x)\n",
        "print(y)"
      ],
      "metadata": {
        "colab": {
          "base_uri": "https://localhost:8080/"
        },
        "id": "3mlDDrYMv-Id",
        "outputId": "62304f1f-0c7b-47b8-ba4c-b9cb1a4c47e6"
      },
      "execution_count": 57,
      "outputs": [
        {
          "output_type": "stream",
          "name": "stdout",
          "text": [
            "['apple', 'banana', 'cherry', 'orange']\n",
            "['apple', 'banana', 'cherry', 'orange']\n",
            "0\n"
          ]
        }
      ]
    },
    {
      "cell_type": "code",
      "source": [
        "list4 = ['apple', 'banana', 'cherry']\n",
        "\n",
        "f=list4.reverse()\n",
        "print(f)"
      ],
      "metadata": {
        "colab": {
          "base_uri": "https://localhost:8080/"
        },
        "id": "VxbxbNc-xe12",
        "outputId": "94ce1f09-2cd9-47a2-f6a9-ae409ad521d4"
      },
      "execution_count": 59,
      "outputs": [
        {
          "output_type": "stream",
          "name": "stdout",
          "text": [
            "None\n"
          ]
        }
      ]
    },
    {
      "cell_type": "code",
      "source": [],
      "metadata": {
        "id": "og9yYYQexe7H"
      },
      "execution_count": null,
      "outputs": []
    },
    {
      "cell_type": "code",
      "source": [],
      "metadata": {
        "id": "GP-e6zGIxe9v"
      },
      "execution_count": null,
      "outputs": []
    },
    {
      "cell_type": "code",
      "source": [],
      "metadata": {
        "id": "ZZKd35jOxfAO"
      },
      "execution_count": null,
      "outputs": []
    }
  ]
}